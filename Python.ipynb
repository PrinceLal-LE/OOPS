{
  "nbformat": 4,
  "nbformat_minor": 0,
  "metadata": {
    "colab": {
      "name": "Untitled0.ipynb",
      "provenance": [],
      "collapsed_sections": [],
      "authorship_tag": "ABX9TyOMAte7eGbEBgrICS7yZB2G",
      "include_colab_link": true
    },
    "kernelspec": {
      "name": "python3",
      "display_name": "Python 3"
    },
    "language_info": {
      "name": "python"
    }
  },
  "cells": [
    {
      "cell_type": "markdown",
      "metadata": {
        "id": "view-in-github",
        "colab_type": "text"
      },
      "source": [
        "<a href=\"https://colab.research.google.com/github/PrinceLal-LE/OOPS/blob/main/Python.ipynb\" target=\"_parent\"><img src=\"https://colab.research.google.com/assets/colab-badge.svg\" alt=\"Open In Colab\"/></a>"
      ]
    },
    {
      "cell_type": "markdown",
      "source": [
        ""
      ],
      "metadata": {
        "id": "eHTfROehb-w0"
      }
    },
    {
      "cell_type": "code",
      "execution_count": 21,
      "metadata": {
        "colab": {
          "base_uri": "https://localhost:8080/"
        },
        "id": "IotjtntZYD7X",
        "outputId": "c4886320-cde0-4a11-d0b3-650516ebd12b"
      },
      "outputs": [
        {
          "output_type": "execute_result",
          "data": {
            "text/plain": [
              "[98, 14, 12]"
            ]
          },
          "metadata": {},
          "execution_count": 21
        }
      ],
      "source": [
        "import random\n",
        "L=[]\n",
        "L.append(12)\n",
        "L.append(14)\n",
        "L.append(98)\n",
        "L.sort()\n",
        "L.reverse()\n",
        "L\n",
        "\n",
        "\n",
        "\n"
      ]
    }
  ]
}